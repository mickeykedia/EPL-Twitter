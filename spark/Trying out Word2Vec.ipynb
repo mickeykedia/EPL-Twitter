{
 "cells": [
  {
   "cell_type": "code",
   "execution_count": 3,
   "metadata": {
    "collapsed": true
   },
   "outputs": [],
   "source": [
    "import json\n",
    "from nltk.corpus import stopwords\n",
    "import nltk\n"
   ]
  },
  {
   "cell_type": "code",
   "execution_count": 2,
   "metadata": {
    "collapsed": true
   },
   "outputs": [],
   "source": [
    "tweets = sc.textFile(\"/Users/mayankkedia/code/epl-twitter/sample_tweets/smaller_sample/\")\n",
    "tweets = tweets.map(lambda x: x.rstrip(\",\")).map(lambda x: json.loads(x))\n"
   ]
  },
  {
   "cell_type": "code",
   "execution_count": 5,
   "metadata": {
    "collapsed": false
   },
   "outputs": [],
   "source": [
    "#nltk.download()\n",
    "def parseAndRemoveStopWords(text):\n",
    "    t = text.replace(\";\",\" \").replace(\":\",\" \").replace('\"',' ').replace('-',' ')\n",
    "    t = t.replace(',',' ').replace('.',' ')\n",
    "    t = t.lower().split(\" \")\n",
    "    ## Remove @, #, double blanks\n",
    "    stop = stopwords.words('english')\n",
    "    return [i for i in t if i not in stop]\n"
   ]
  },
  {
   "cell_type": "code",
   "execution_count": null,
   "metadata": {
    "collapsed": true
   },
   "outputs": [],
   "source": []
  },
  {
   "cell_type": "code",
   "execution_count": 11,
   "metadata": {
    "collapsed": true
   },
   "outputs": [],
   "source": [
    "tweet_words= tweets.filter(lambda x: x['lang']=='en').map(lambda x:parseAndRemoveStopWords(x['text']))"
   ]
  },
  {
   "cell_type": "code",
   "execution_count": null,
   "metadata": {
    "collapsed": false
   },
   "outputs": [],
   "source": []
  },
  {
   "cell_type": "code",
   "execution_count": 13,
   "metadata": {
    "collapsed": true
   },
   "outputs": [],
   "source": [
    "from pyspark.mllib.feature import Word2Vec\n",
    "\n",
    "\n",
    "word2vec = Word2Vec()\n",
    "model = word2vec.fit(tweet_words)"
   ]
  },
  {
   "cell_type": "code",
   "execution_count": 18,
   "metadata": {
    "collapsed": false
   },
   "outputs": [
    {
     "name": "stdout",
     "output_type": "stream",
     "text": [
      "89th: 0.455329940023\n",
      "fixture: 0.449765376615\n",
      "cock: 0.445930261627\n",
      "close: 0.432415758805\n",
      "must: 0.430790877916\n",
      "start: 0.425792932672\n",
      "could: 0.423249548844\n",
      "fail: 0.417860969281\n",
      "defending: 0.416379055949\n",
      "they've: 0.412047808325\n"
     ]
    }
   ],
   "source": [
    "synonyms = model.findSynonyms('lcfc', 10)\n",
    "\n",
    "for word, cosine_distance in synonyms:\n",
    "    print(\"{}: {}\".format(word, cosine_distance))"
   ]
  },
  {
   "cell_type": "code",
   "execution_count": 22,
   "metadata": {
    "collapsed": false
   },
   "outputs": [
    {
     "name": "stdout",
     "output_type": "stream",
     "text": [
      "odds: 0.605997424935\n",
      "bpl: 0.596520463259\n",
      "match: 0.588608071811\n",
      "everton: 0.587589549981\n",
      "ain't: 0.581441229385\n",
      "really: 0.580053984837\n",
      "hoping: 0.577230907773\n",
      "tottenham: 0.574315197295\n",
      "deserve: 0.573598717297\n",
      "let: 0.572781580323\n"
     ]
    }
   ],
   "source": [
    "\n",
    "synonyms = model.findSynonyms('epl', 10)\n",
    "\n",
    "for word, cosine_distance in synonyms:\n",
    "    print(\"{}: {}\".format(word, cosine_distance))"
   ]
  },
  {
   "cell_type": "code",
   "execution_count": null,
   "metadata": {
    "collapsed": true
   },
   "outputs": [],
   "source": [
    "synonyms = model.findSynonyms('champion', 10)\n",
    "\n",
    "for word, cosine_distance in synonyms:\n",
    "    print(\"{}: {}\".format(word, cosine_distance))"
   ]
  },
  {
   "cell_type": "code",
   "execution_count": 27,
   "metadata": {
    "collapsed": false
   },
   "outputs": [
    {
     "name": "stdout",
     "output_type": "stream",
     "text": [
      "crossing: 0.226256160706\n",
      "70': 0.216314984281\n",
      "forward: 0.214093658682\n",
      "watched: 0.210126086638\n",
      "\n",
      "3: 0.209848256383\n",
      "use: 0.206545878246\n",
      "#muvlei: 0.206127687221\n",
      "pass: 0.201551135964\n",
      "duels: 0.201475034666\n",
      "crying: 0.199006086942\n"
     ]
    }
   ],
   "source": [
    "synonyms = model.findSynonyms('defense', 10)\n",
    "\n",
    "for word, cosine_distance in synonyms:\n",
    "    print(\"{}: {}\".format(word, cosine_distance))"
   ]
  },
  {
   "cell_type": "code",
   "execution_count": null,
   "metadata": {
    "collapsed": true
   },
   "outputs": [],
   "source": []
  },
  {
   "cell_type": "code",
   "execution_count": null,
   "metadata": {
    "collapsed": true
   },
   "outputs": [],
   "source": []
  }
 ],
 "metadata": {
  "kernelspec": {
   "display_name": "Python 2",
   "language": "python",
   "name": "python2"
  },
  "language_info": {
   "codemirror_mode": {
    "name": "ipython",
    "version": 2
   },
   "file_extension": ".py",
   "mimetype": "text/x-python",
   "name": "python",
   "nbconvert_exporter": "python",
   "pygments_lexer": "ipython2",
   "version": "2.7.11"
  }
 },
 "nbformat": 4,
 "nbformat_minor": 0
}
