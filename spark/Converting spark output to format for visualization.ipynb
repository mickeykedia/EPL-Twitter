{
 "cells": [
  {
   "cell_type": "markdown",
   "metadata": {},
   "source": [
    "## Manchester United vs Leicester City data"
   ]
  },
  {
   "cell_type": "code",
   "execution_count": 24,
   "metadata": {
    "collapsed": true
   },
   "outputs": [],
   "source": [
    "import json\n",
    "import pandas as pd\n",
    "with open(\"/Users/mayankkedia/code/epl-twitter/spark/manu_leicester_wf.json\", 'r') as f:\n",
    "    cl = json.load(f)\n"
   ]
  },
  {
   "cell_type": "markdown",
   "metadata": {},
   "source": [
    "### Constructing First Half array"
   ]
  },
  {
   "cell_type": "code",
   "execution_count": 6,
   "metadata": {
    "collapsed": false
   },
   "outputs": [],
   "source": [
    "first_half_length = 51\n",
    "first_half_start = 11405\n",
    "cl_keys = [int(x) for x in sorted(cl.keys())]"
   ]
  },
  {
   "cell_type": "code",
   "execution_count": 9,
   "metadata": {
    "collapsed": false
   },
   "outputs": [],
   "source": [
    "first_half_keys = [str(x) for x in range(1,46)]"
   ]
  },
  {
   "cell_type": "code",
   "execution_count": 12,
   "metadata": {
    "collapsed": false
   },
   "outputs": [],
   "source": [
    "first_half_keys.extend([\"+\"+str(x) for x in range(1,first_half_length - 44)])"
   ]
  },
  {
   "cell_type": "markdown",
   "metadata": {},
   "source": [
    "#### Constructing word list.csv"
   ]
  },
  {
   "cell_type": "code",
   "execution_count": null,
   "metadata": {
    "collapsed": true
   },
   "outputs": [],
   "source": []
  },
  {
   "cell_type": "code",
   "execution_count": 26,
   "metadata": {
    "collapsed": false
   },
   "outputs": [],
   "source": [
    "word = sorted([x.encode('utf-8') for x in cl[str(first_half_start)].keys()])\n",
    "index = range(0, len(word))"
   ]
  },
  {
   "cell_type": "code",
   "execution_count": 28,
   "metadata": {
    "collapsed": false
   },
   "outputs": [],
   "source": [
    "df = pd.DataFrame({\"word\":word, \"index\":index})"
   ]
  },
  {
   "cell_type": "code",
   "execution_count": 42,
   "metadata": {
    "collapsed": true
   },
   "outputs": [],
   "source": [
    "df.to_csv(\"ml_word_list.csv\", header=True, index=False)"
   ]
  },
  {
   "cell_type": "markdown",
   "metadata": {},
   "source": [
    "#### Constructing the data array \n",
    "Format is array of arrays \n",
    "\n",
    "    [\n",
    "    [12, 2,3, 4, 22, 11, \"1\"], \n",
    "    ...\n",
    "    ]\n",
    "    \n",
    "The idea being that the index in the csv is the index in the row array where\n",
    "the frequency of the word is "
   ]
  },
  {
   "cell_type": "code",
   "execution_count": 5,
   "metadata": {
    "collapsed": false
   },
   "outputs": [],
   "source": [
    "def construct_half_time_data(cl, cl_keys, half_keys, half_length, half_start, word_list):\n",
    "    start_recording = False\n",
    "    counter = 0\n",
    "    data = []\n",
    "    for clk in cl_keys:\n",
    "        if clk == half_start:\n",
    "            start_recording = True\n",
    "\n",
    "        if counter == half_length:\n",
    "            break\n",
    "\n",
    "        if start_recording:\n",
    "            row_data = []\n",
    "            for w in word_list:\n",
    "                row_data.append(cl[str(clk)][w])\n",
    "            row_data.append(half_keys[counter])\n",
    "            ## Data is stored in arrays of arrays\n",
    "            counter +=1\n",
    "            data.append(row_data)\n",
    "    return data"
   ]
  },
  {
   "cell_type": "code",
   "execution_count": 36,
   "metadata": {
    "collapsed": false
   },
   "outputs": [],
   "source": [
    "first_half_data = construct_half_time_data(cl, \n",
    "                                           cl_keys, \n",
    "                                           first_half_keys, \n",
    "                                           first_half_length, \n",
    "                                           first_half_start, \n",
    "                                           word)"
   ]
  },
  {
   "cell_type": "markdown",
   "metadata": {},
   "source": [
    "### Second Half for Manu Leicester"
   ]
  },
  {
   "cell_type": "code",
   "execution_count": 37,
   "metadata": {
    "collapsed": true
   },
   "outputs": [],
   "source": [
    "second_half_length = 50\n",
    "second_half_start = 11506\n",
    "cl_keys = [int(x) for x in sorted(cl.keys())]\n",
    "\n",
    "second_half_keys = [str(x) for x in range(46,91)]\n",
    "second_half_keys.extend([\"+\"+str(x) for x in range(1,second_half_length - 44)])"
   ]
  },
  {
   "cell_type": "code",
   "execution_count": 38,
   "metadata": {
    "collapsed": true
   },
   "outputs": [],
   "source": [
    "second_half_data = construct_half_time_data(cl, \n",
    "                                            cl_keys, \n",
    "                                            second_half_keys, \n",
    "                                            second_half_length, \n",
    "                                            second_half_start, \n",
    "                                           word)"
   ]
  },
  {
   "cell_type": "code",
   "execution_count": 40,
   "metadata": {
    "collapsed": false
   },
   "outputs": [],
   "source": [
    "manu_leicester_wf_data = [first_half_data, second_half_data]"
   ]
  },
  {
   "cell_type": "code",
   "execution_count": 41,
   "metadata": {
    "collapsed": true
   },
   "outputs": [],
   "source": [
    "with open(\"manu_leicester_wf.json\", 'wb') as f:\n",
    "    json.dump(manu_leicester_wf_data, f)"
   ]
  },
  {
   "cell_type": "markdown",
   "metadata": {},
   "source": [
    "## Chelsea vs Spurs "
   ]
  },
  {
   "cell_type": "code",
   "execution_count": 1,
   "metadata": {
    "collapsed": true
   },
   "outputs": [],
   "source": [
    "import json\n",
    "import pandas as pd\n",
    "with open(\"/Users/mayankkedia/code/epl-twitter/spark/chelsea_tottenham_spark_output_wf.json\", 'r') as f:\n",
    "    cl = json.load(f)"
   ]
  },
  {
   "cell_type": "code",
   "execution_count": 2,
   "metadata": {
    "collapsed": true
   },
   "outputs": [],
   "source": [
    "first_half_length = 48\n",
    "first_half_start = 21900\n",
    "cl_keys = [int(x) for x in sorted(cl.keys())]\n",
    "first_half_keys = [str(x) for x in range(1,46)]\n",
    "first_half_keys.extend([\"+\"+str(x) for x in range(1,first_half_length - 44)])"
   ]
  },
  {
   "cell_type": "code",
   "execution_count": 3,
   "metadata": {
    "collapsed": true
   },
   "outputs": [],
   "source": [
    "\n",
    "word = sorted([x.encode('utf-8') for x in cl[str(first_half_start)].keys()])\n",
    "index = range(0, len(word))\n",
    "df = pd.DataFrame({\"word\":word, \"index\":index})\n",
    "df.to_csv(\"chelsea_tottenham_word_list.csv\", header=True, index=False)"
   ]
  },
  {
   "cell_type": "code",
   "execution_count": 6,
   "metadata": {
    "collapsed": false
   },
   "outputs": [],
   "source": [
    "first_half_data = construct_half_time_data(cl, \n",
    "                                           cl_keys, \n",
    "                                           first_half_keys, \n",
    "                                           first_half_length, \n",
    "                                           first_half_start, \n",
    "                                           word)"
   ]
  },
  {
   "cell_type": "code",
   "execution_count": 9,
   "metadata": {
    "collapsed": true
   },
   "outputs": [],
   "source": [
    "\n",
    "second_half_length = 51\n",
    "second_half_start = 22003\n",
    "cl_keys = [int(x) for x in sorted(cl.keys())]\n",
    "\n",
    "second_half_keys = [str(x) for x in range(46,91)]\n",
    "second_half_keys.extend([\"+\"+str(x) for x in range(1,second_half_length - 44)])"
   ]
  },
  {
   "cell_type": "code",
   "execution_count": 10,
   "metadata": {
    "collapsed": true
   },
   "outputs": [],
   "source": [
    "\n",
    "second_half_data = construct_half_time_data(cl, \n",
    "                                            cl_keys, \n",
    "                                            second_half_keys, \n",
    "                                            second_half_length, \n",
    "                                            second_half_start, \n",
    "                                           word)"
   ]
  },
  {
   "cell_type": "code",
   "execution_count": 11,
   "metadata": {
    "collapsed": true
   },
   "outputs": [],
   "source": [
    "chelsea_tottenham_wf_data = [first_half_data, second_half_data]\n"
   ]
  },
  {
   "cell_type": "code",
   "execution_count": 13,
   "metadata": {
    "collapsed": false
   },
   "outputs": [],
   "source": [
    "with open(\"chelsea_tottenham_wf.json\", 'wb') as f:\n",
    "    json.dump(chelsea_tottenham_wf_data, f)"
   ]
  },
  {
   "cell_type": "code",
   "execution_count": 15,
   "metadata": {
    "collapsed": false
   },
   "outputs": [],
   "source": [
    "a = chelsea_tottenham_wf_data[0]"
   ]
  },
  {
   "cell_type": "code",
   "execution_count": 16,
   "metadata": {
    "collapsed": true
   },
   "outputs": [],
   "source": [
    "a.extend(chelsea_tottenham_wf_data[1])"
   ]
  },
  {
   "cell_type": "code",
   "execution_count": 17,
   "metadata": {
    "collapsed": false
   },
   "outputs": [
    {
     "data": {
      "text/plain": [
       "99"
      ]
     },
     "execution_count": 17,
     "metadata": {},
     "output_type": "execute_result"
    }
   ],
   "source": [
    "len(a)"
   ]
  },
  {
   "cell_type": "code",
   "execution_count": 29,
   "metadata": {
    "collapsed": false
   },
   "outputs": [],
   "source": [
    "frequencies = map(lambda x: x[16], a)"
   ]
  },
  {
   "cell_type": "code",
   "execution_count": 30,
   "metadata": {
    "collapsed": true
   },
   "outputs": [],
   "source": [
    "%matplotlib inline\n",
    "import matplotlib.pyplot as plt"
   ]
  },
  {
   "cell_type": "code",
   "execution_count": 31,
   "metadata": {
    "collapsed": false
   },
   "outputs": [
    {
     "data": {
      "text/plain": [
       "(array([ 41.,  18.,  17.,   8.,   5.,   3.,   3.,   1.,   1.,   2.]),\n",
       " array([  0. ,   5.9,  11.8,  17.7,  23.6,  29.5,  35.4,  41.3,  47.2,\n",
       "         53.1,  59. ]),\n",
       " <a list of 10 Patch objects>)"
      ]
     },
     "execution_count": 31,
     "metadata": {},
     "output_type": "execute_result"
    },
    {
     "data": {
      "image/png": "[encoded data removed]",
      "text/plain": [
       "<matplotlib.figure.Figure at 0x108ec3a10>"
      ]
     },
     "metadata": {},
     "output_type": "display_data"
    }
   ],
   "source": [
    "plt.hist(frequencies)"
   ]
  },
  {
   "cell_type": "code",
   "execution_count": 32,
   "metadata": {
    "collapsed": false
   },
   "outputs": [
    {
     "data": {
      "text/plain": [
       "[<matplotlib.lines.Line2D at 0x109242290>]"
      ]
     },
     "execution_count": 32,
     "metadata": {},
     "output_type": "execute_result"
    },
    {
     "data": {
      "image/png": "[encoded data removed]",
      "text/plain": [
       "<matplotlib.figure.Figure at 0x109111350>"
      ]
     },
     "metadata": {},
     "output_type": "display_data"
    }
   ],
   "source": [
    "plt.plot(frequencies)"
   ]
  },
  {
   "cell_type": "code",
   "execution_count": null,
   "metadata": {
    "collapsed": true
   },
   "outputs": [],
   "source": []
  }
 ],
 "metadata": {
  "kernelspec": {
   "display_name": "Python 2",
   "language": "python",
   "name": "python2"
  },
  "language_info": {
   "codemirror_mode": {
    "name": "ipython",
    "version": 2
   },
   "file_extension": ".py",
   "mimetype": "text/x-python",
   "name": "python",
   "nbconvert_exporter": "python",
   "pygments_lexer": "ipython2",
   "version": "2.7.11"
  }
 },
 "nbformat": 4,
 "nbformat_minor": 0
}
